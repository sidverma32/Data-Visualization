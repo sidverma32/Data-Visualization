{
 "cells": [
  {
   "cell_type": "code",
   "execution_count": 101,
   "metadata": {
    "collapsed": false
   },
   "outputs": [
    {
     "data": {
      "image/png": "[encoded data removed]",
      "text/plain": [
       "<matplotlib.figure.Figure at 0x298f0112b00>"
      ]
     },
     "metadata": {},
     "output_type": "display_data"
    }
   ],
   "source": [
    "import matplotlib.pyplot as plt\n",
    "import numpy as np\n",
    "import urllib\n",
    "import matplotlib.dates as mdates\n",
    "import pprint\n",
    "\n",
    "#converting the datestamps from the Yahoo finance API to times that Matplotlib understands\n",
    "def bytespdate2num(fmt, encoding='utf-8'):\n",
    "    strconverter = mdates.strpdate2num(fmt)\n",
    "\n",
    "    def bytesconverter(b):\n",
    "        s = b.decode(encoding)\n",
    "        return strconverter(s)\n",
    "\n",
    "    return bytesconverter\n",
    "\n",
    "\n",
    "def graph_data():\n",
    "    # Unfortunately, Yahoo's API is no longer available\n",
    "    # feel free to adapt the code to another source, or use this drop-in replacement.\n",
    "    stock_price_url = 'https://pythonprogramming.net/yahoo_finance_replacement'\n",
    "    source_code = urllib.request.urlopen(stock_price_url).read().decode()\n",
    "    stock_data = []\n",
    "    split_source = source_code.split('\\n')\n",
    "    for line in split_source[2:]:\n",
    "        split_line = line.split(',')\n",
    "        if len(split_line) == 7:\n",
    "            if 'values' not in line and 'labels' not in line:\n",
    "                stock_data.append(line)\n",
    "\n",
    "    # pprint.pprint(stock_data)\n",
    "    date, openp, highp, lowp, closep, adj_closep, volume = np.loadtxt(stock_data,\n",
    "                                                                      delimiter=',',\n",
    "                                                                      unpack=True,\n",
    "                                                                      # %Y = full year. 2015\n",
    "                                                                      # %y = partial year 15\n",
    "                                                                      # %m = number month\n",
    "                                                                      # %d = number day\n",
    "                                                                      # %H = hours\n",
    "                                                                      # %M = minutes\n",
    "                                                                      # %S = seconds\n",
    "                                                                      # 12-06-2014\n",
    "                                                                      # %m-%d-%Y\n",
    "                                                                      converters={0: bytespdate2num('%Y-%m-%d')})\n",
    "\n",
    "    # print(\"date\", date)\n",
    "\n",
    "    plt.plot_date(date, closep, '-', label='Price')\n",
    "\n",
    "    plt.xlabel('Date')\n",
    "    plt.ylabel('Price')\n",
    "    plt.title('Stock Price\\nCheck it out')\n",
    "    plt.legend()\n",
    "    plt.show()\n",
    "\n",
    "\n",
    "graph_data()"
   ]
  },
  {
   "cell_type": "code",
   "execution_count": null,
   "metadata": {
    "collapsed": false
   },
   "outputs": [],
   "source": []
  },
  {
   "cell_type": "code",
   "execution_count": null,
   "metadata": {
    "collapsed": false
   },
   "outputs": [],
   "source": []
  },
  {
   "cell_type": "code",
   "execution_count": null,
   "metadata": {
    "collapsed": false
   },
   "outputs": [],
   "source": []
  },
  {
   "cell_type": "code",
   "execution_count": null,
   "metadata": {
    "collapsed": true
   },
   "outputs": [],
   "source": []
  }
 ],
 "metadata": {
  "kernelspec": {
   "display_name": "Python 3",
   "language": "python",
   "name": "python3"
  },
  "language_info": {
   "codemirror_mode": {
    "name": "ipython",
    "version": 3
   },
   "file_extension": ".py",
   "mimetype": "text/x-python",
   "name": "python",
   "nbconvert_exporter": "python",
   "pygments_lexer": "ipython3",
   "version": "3.5.3"
  }
 },
 "nbformat": 4,
 "nbformat_minor": 0
}
