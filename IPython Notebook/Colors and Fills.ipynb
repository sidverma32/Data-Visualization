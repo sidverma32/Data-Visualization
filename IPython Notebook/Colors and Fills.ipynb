{
 "cells": [
  {
   "cell_type": "code",
   "execution_count": 23,
   "metadata": {
    "collapsed": false
   },
   "outputs": [
    {
     "data": {
      "image/png": "[encoded data removed]",
      "text/plain": [
       "<matplotlib.figure.Figure at 0x28be36757f0>"
      ]
     },
     "metadata": {},
     "output_type": "display_data"
    }
   ],
   "source": [
    "import matplotlib.pyplot as plt\n",
    "import numpy as np\n",
    "import urllib\n",
    "import matplotlib.dates as mdates\n",
    "\n",
    "%matplotlib inline\n",
    "\n",
    "#converting the datestamps from the Yahoo finance API to times that Matplotlib understands\n",
    "def bytespdate2num(fmt, encoding='utf-8'):\n",
    "    strconverter = mdates.strpdate2num(fmt)\n",
    "\n",
    "    def bytesconverter(b):\n",
    "        s = b.decode(encoding)\n",
    "        return strconverter(s)\n",
    "\n",
    "    return bytesconverter\n",
    "\n",
    "\n",
    "def graph_data():\n",
    "    \n",
    "    fig = plt.figure()\n",
    "    ax1 = plt.subplot2grid((1,1), (0,0))\n",
    "    # Unfortunately, Yahoo's API is no longer available\n",
    "    # feel free to adapt the code to another source, or use this drop-in replacement.\n",
    "    stock_price_url = 'https://pythonprogramming.net/yahoo_finance_replacement'\n",
    "    source_code = urllib.request.urlopen(stock_price_url).read().decode()\n",
    "    stock_data = []\n",
    "    split_source = source_code.split('\\n')\n",
    "    for line in split_source[2:]:\n",
    "        split_line = line.split(',')\n",
    "        if len(split_line) == 7:\n",
    "            if 'values' not in line and 'labels' not in line:\n",
    "                stock_data.append(line)\n",
    "\n",
    "    # pprint.pprint(stock_data)\n",
    "    date, openp, highp, lowp, closep, adj_closep, volume = np.loadtxt(stock_data,\n",
    "                                                                      delimiter=',',\n",
    "                                                                      unpack=True,\n",
    "                                                                      # %Y = full year. 2015\n",
    "                                                                      # %y = partial year 15\n",
    "                                                                      # %m = number month\n",
    "                                                                      # %d = number day\n",
    "                                                                      # %H = hours\n",
    "                                                                      # %M = minutes\n",
    "                                                                      # %S = seconds\n",
    "                                                                      # 12-06-2014\n",
    "                                                                      # %m-%d-%Y\n",
    "                                                                      converters={0: bytespdate2num('%Y-%m-%d')})\n",
    "\n",
    "    \n",
    "    ax1.plot_date(date, closep,'-', label='Price')\n",
    "\n",
    "    ax1.plot([],[],linewidth=5, label='loss', color='r',alpha=0.5)\n",
    "    ax1.plot([],[],linewidth=5, label='gain', color='g',alpha=0.5)\n",
    "\n",
    "    ax1.fill_between(date, closep, closep[0],where=(closep > closep[0]), facecolor='g', alpha=0.5)\n",
    "    ax1.fill_between(date, closep, closep[0],where=(closep < closep[0]), facecolor='r', alpha=0.5)\n",
    "    \n",
    "    for label in ax1.xaxis.get_ticklabels():\n",
    "        label.set_rotation(45)\n",
    "    ax1.grid(True)#, color='g', linestyle='-', linewidth=5)\n",
    "    ax1.xaxis.label.set_color('c')\n",
    "    ax1.yaxis.label.set_color('r')\n",
    "    ax1.set_yticks([0,25,50,75])\n",
    "\n",
    "    plt.xlabel('Date')\n",
    "    plt.ylabel('Price')\n",
    "    plt.title('Ebay')\n",
    "    plt.legend()\n",
    "    #plt.subplots_adjust(left=0.09, bottom=0.20, right=0.94, top=0.90, wspace=0.2, hspace=0)\n",
    "    plt.show()\n",
    "\n",
    "\n",
    "graph_data()"
   ]
  },
  {
   "cell_type": "code",
   "execution_count": 24,
   "metadata": {
    "collapsed": false
   },
   "outputs": [],
   "source": [
    "#plt.xticks()\n",
    "#plt.yticks()"
   ]
  },
  {
   "cell_type": "code",
   "execution_count": 25,
   "metadata": {
    "collapsed": false
   },
   "outputs": [],
   "source": [
    "#tick_vals = np.linspace(0,25,50,70)"
   ]
  },
  {
   "cell_type": "code",
   "execution_count": null,
   "metadata": {
    "collapsed": false
   },
   "outputs": [],
   "source": []
  },
  {
   "cell_type": "code",
   "execution_count": null,
   "metadata": {
    "collapsed": true
   },
   "outputs": [],
   "source": []
  }
 ],
 "metadata": {
  "kernelspec": {
   "display_name": "Python 3",
   "language": "python",
   "name": "python3"
  },
  "language_info": {
   "codemirror_mode": {
    "name": "ipython",
    "version": 3
   },
   "file_extension": ".py",
   "mimetype": "text/x-python",
   "name": "python",
   "nbconvert_exporter": "python",
   "pygments_lexer": "ipython3",
   "version": "3.5.3"
  }
 },
 "nbformat": 4,
 "nbformat_minor": 0
}
