{
 "cells": [
  {
   "cell_type": "code",
   "execution_count": 1,
   "metadata": {
    "collapsed": true
   },
   "outputs": [],
   "source": [
    "import tensorflow as tf"
   ]
  },
  {
   "cell_type": "markdown",
   "metadata": {},
   "source": [
    "# simple fifo queue example"
   ]
  },
  {
   "cell_type": "markdown",
   "metadata": {},
   "source": [
    "this example is from https://www.tensorflow.org/how_tos/threading_and_queues/"
   ]
  },
  {
   "cell_type": "markdown",
   "metadata": {},
   "source": [
    "The whole block below is symbolic. nothing is executed!"
   ]
  },
  {
   "cell_type": "code",
   "execution_count": 2,
   "metadata": {
    "collapsed": false
   },
   "outputs": [
    {
     "name": "stdout",
     "output_type": "stream",
     "text": [
      "<class 'tensorflow.python.ops.data_flow_ops.FIFOQueue'> <class 'tensorflow.python.framework.ops.Operation'> <class 'tensorflow.python.framework.ops.Tensor'> <class 'tensorflow.python.framework.ops.Operation'>\n"
     ]
    }
   ],
   "source": [
    "q = tf.FIFOQueue(capacity=3,dtypes=\"float\")\n",
    "init = q.enqueue_many(([0,0,0],))\n",
    "x = q.dequeue()\n",
    "y = x+1\n",
    "q_inc = q.enqueue(y)\n",
    "print(type(q),type(init),type(x),type(q_inc))"
   ]
  },
  {
   "cell_type": "markdown",
   "metadata": {},
   "source": [
    "start executing"
   ]
  },
  {
   "cell_type": "code",
   "execution_count": 3,
   "metadata": {
    "collapsed": false
   },
   "outputs": [
    {
     "name": "stdout",
     "output_type": "stream",
     "text": [
      "Round: 0 Item: 0 Value: 0\n",
      "Round: 0 Item: 1 Value: 0\n",
      "Round: 0 Item: 2 Value: 0\n",
      "Round: 1 Item: 0 Value: 1\n",
      "Round: 1 Item: 1 Value: 1\n",
      "Round: 1 Item: 2 Value: 1\n",
      "Round: 2 Item: 0 Value: 2\n",
      "Round: 2 Item: 1 Value: 2\n",
      "Round: 2 Item: 2 Value: 2\n",
      "Round: 3 Item: 0 Value: 3\n",
      "Round: 3 Item: 1 Value: 3\n",
      "Round: 3 Item: 2 Value: 3\n",
      "Round: 4 Item: 0 Value: 4\n",
      "Round: 4 Item: 1 Value: 4\n",
      "Round: 4 Item: 2 Value: 4\n",
      "Round: 5 Item: 0 Value: 5\n",
      "Round: 5 Item: 1 Value: 5\n",
      "Round: 5 Item: 2 Value: 5\n",
      "Round: 6 Item: 0 Value: 6\n",
      "Round: 6 Item: 1 Value: 6\n"
     ]
    }
   ],
   "source": [
    "with tf.Session() as sess:\n",
    "    sess.run(init)\n",
    "    for i in range(20):\n",
    "        _, result = sess.run([q_inc, x])\n",
    "        print(\"Round: %d Item: %d Value: %d\"%(i/3, i%3, result))"
   ]
  },
  {
   "cell_type": "code",
   "execution_count": null,
   "metadata": {
    "collapsed": false
   },
   "outputs": [
    {
     "name": "stdout",
     "output_type": "stream",
     "text": [
      "Round: 0 Item: 0 Value: 0\n",
      "Round: 0 Item: 1 Value: 1\n"
     ]
    }
   ],
   "source": [
    "with tf.Session() as sess:\n",
    "    sess.run(init)\n",
    "    for i in range(20):\n",
    "        sess.run(q_inc)        \n",
    "        result = sess.run(x)\n",
    "        sess.run(q_inc)\n",
    "        print(\"Round: %d Item: %d Value: %d\"%(i/3, i%3, result))"
   ]
  },
  {
   "cell_type": "code",
   "execution_count": null,
   "metadata": {
    "collapsed": true
   },
   "outputs": [],
   "source": []
  }
 ],
 "metadata": {
  "anaconda-cloud": {},
  "kernelspec": {
   "display_name": "Python 3",
   "language": "python",
   "name": "python3"
  },
  "language_info": {
   "codemirror_mode": {
    "name": "ipython",
    "version": 3
   },
   "file_extension": ".py",
   "mimetype": "text/x-python",
   "name": "python",
   "nbconvert_exporter": "python",
   "pygments_lexer": "ipython3",
   "version": "3.5.2"
  }
 },
 "nbformat": 4,
 "nbformat_minor": 1
}
