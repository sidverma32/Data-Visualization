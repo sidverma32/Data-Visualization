{
 "cells": [
  {
   "cell_type": "code",
   "execution_count": 1,
   "metadata": {
    "collapsed": false
   },
   "outputs": [],
   "source": [
    "import tensorflow as tf\n",
    "import os\n",
    "import matplotlib.pyplot as plt\n",
    "import numpy as np\n",
    "import matplotlib.image as mpimg\n",
    "%matplotlib inline"
   ]
  },
  {
   "cell_type": "markdown",
   "metadata": {},
   "source": [
    "# read images with multi-thread"
   ]
  },
  {
   "cell_type": "code",
   "execution_count": 2,
   "metadata": {
    "collapsed": false
   },
   "outputs": [
    {
     "name": "stdout",
     "output_type": "stream",
     "text": [
      "['images/valamugil_seheli_1.png', 'images/valamugil_seheli_2.png', 'images/valamugil_seheli_3.png', 'images/valamugil_seheli_4.png']\n"
     ]
    }
   ],
   "source": [
    "imgs = ['images/%s'%i for i in os.listdir('images/') if i.endswith('.png')]\n",
    "print(imgs)"
   ]
  },
  {
   "cell_type": "code",
   "execution_count": 3,
   "metadata": {
    "collapsed": false
   },
   "outputs": [
    {
     "name": "stdout",
     "output_type": "stream",
     "text": [
      "<class 'tensorflow.python.ops.data_flow_ops.FIFOQueue'>\n"
     ]
    }
   ],
   "source": [
    "filename_queue = tf.train.string_input_producer(imgs) # returns a tensorflow fifoqueue\n",
    "print(type(filename_queue))"
   ]
  },
  {
   "cell_type": "code",
   "execution_count": 5,
   "metadata": {
    "collapsed": false
   },
   "outputs": [
    {
     "name": "stdout",
     "output_type": "stream",
     "text": [
      "<class 'tensorflow.python.ops.io_ops.WholeFileReader'> <class 'tensorflow.python.framework.ops.Tensor'> <class 'tensorflow.python.framework.ops.Tensor'>\n"
     ]
    }
   ],
   "source": [
    "reader = tf.WholeFileReader()\n",
    "mykey, value = reader.read(filename_queue)\n",
    "print(type(reader), type(mykey), type(value))"
   ]
  },
  {
   "cell_type": "code",
   "execution_count": 6,
   "metadata": {
    "collapsed": false
   },
   "outputs": [
    {
     "name": "stdout",
     "output_type": "stream",
     "text": [
      "<class 'tensorflow.python.framework.ops.Tensor'>\n"
     ]
    }
   ],
   "source": [
    "my_img = tf.image.decode_png(value) # use png or jpg decoder based on your files.\n",
    "print(type(my_img))"
   ]
  },
  {
   "cell_type": "code",
   "execution_count": 9,
   "metadata": {
    "collapsed": false
   },
   "outputs": [
    {
     "name": "stdout",
     "output_type": "stream",
     "text": [
      "b'images/valamugil_seheli_1.png'\n",
      "b'images/valamugil_seheli_1.png'\n",
      "b'images/valamugil_seheli_4.png'\n",
      "b'images/valamugil_seheli_1.png'\n",
      "b'images/valamugil_seheli_4.png'\n",
      "b'images/valamugil_seheli_3.png'\n",
      "b'images/valamugil_seheli_4.png'\n",
      "b'images/valamugil_seheli_1.png'\n",
      "b'images/valamugil_seheli_1.png'\n",
      "b'images/valamugil_seheli_3.png'\n"
     ]
    }
   ],
   "source": [
    "init_op = tf.global_variables_initializer()\n",
    "with tf.Session() as sess:\n",
    "    sess.run(init_op)\n",
    "\n",
    "    # Start populating the filename queue.\n",
    "    coord = tf.train.Coordinator()\n",
    "    threads = tf.train.start_queue_runners(coord=coord)\n",
    "    images = []\n",
    "    for i in range(10): #length of your filename list\n",
    "        image = my_img.eval() #here is your image Tensor :) \n",
    "        mm = mykey.eval()\n",
    "        print(mykey.eval())\n",
    "        #images.append(image)\n",
    "        #plt.imshow(image)\n",
    "\n",
    "    coord.request_stop()\n",
    "    coord.join(threads)"
   ]
  },
  {
   "cell_type": "markdown",
   "metadata": {},
   "source": [
    "check how many threads are launched"
   ]
  },
  {
   "cell_type": "code",
   "execution_count": 8,
   "metadata": {
    "collapsed": false
   },
   "outputs": [
    {
     "name": "stdout",
     "output_type": "stream",
     "text": [
      "<class 'list'> [<Thread(Thread-6, stopped daemon 12276)>, <Thread(Thread-7, stopped daemon 12720)>]\n"
     ]
    }
   ],
   "source": [
    "print (type(threads), threads)"
   ]
  },
  {
   "cell_type": "code",
   "execution_count": 18,
   "metadata": {
    "collapsed": false
   },
   "outputs": [
    {
     "data": {
      "text/plain": [
       "True"
      ]
     },
     "execution_count": 18,
     "metadata": {},
     "output_type": "execute_result"
    }
   ],
   "source": [
    "type(mm.decode(\"utf-8\")) == str"
   ]
  },
  {
   "cell_type": "code",
   "execution_count": null,
   "metadata": {
    "collapsed": true
   },
   "outputs": [],
   "source": []
  }
 ],
 "metadata": {
  "kernelspec": {
   "display_name": "Python 3",
   "language": "python",
   "name": "python3"
  },
  "language_info": {
   "codemirror_mode": {
    "name": "ipython",
    "version": 3
   },
   "file_extension": ".py",
   "mimetype": "text/x-python",
   "name": "python",
   "nbconvert_exporter": "python",
   "pygments_lexer": "ipython3",
   "version": "3.5.2"
  }
 },
 "nbformat": 4,
 "nbformat_minor": 2
}
